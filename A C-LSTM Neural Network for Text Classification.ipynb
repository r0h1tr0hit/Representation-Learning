{
  "nbformat": 4,
  "nbformat_minor": 0,
  "metadata": {
    "colab": {
      "name": "DLNLP_A4.ipynb",
      "provenance": []
    },
    "kernelspec": {
      "name": "python3",
      "display_name": "Python 3"
    },
    "language_info": {
      "name": "python"
    },
    "accelerator": "GPU"
  },
  "cells": [
    {
      "cell_type": "markdown",
      "metadata": {
        "id": "iHUqdmGK8vce"
      },
      "source": [
        "# **A C-LSTM Neural Network for Text Classification**\n",
        "\n",
        "Convolutional neural network (CNN)\n",
        "and recurrent neural network (RNN) are two\n",
        "mainstream architectures for such modeling\n",
        "tasks, which adopt totally different ways of\n",
        "understanding natural languages. \n",
        "\n",
        "In this work,\n",
        "we combine the strengths of both architectures\n",
        "and propose a novel and unified model called\n",
        "C-LSTM for sentence representation and text\n",
        "classification. \n",
        "\n",
        "C-LSTM utilizes CNN to extract a sequence of higher-level phrase representations, and are fed into a long short-term\n",
        "memory recurrent neural network (LSTM) to\n",
        "obtain the sentence representation. \n",
        "\n",
        "C-LSTM\n",
        "is able to capture both local features of phrases\n",
        "as well as global and temporal sentence semantics. We evaluate the proposed architecture on sentiment classification task.\n",
        "\n",
        "# Reference\n",
        "\n",
        "Zhou et al, A C-LSTM Neural Network for Text Classification, arXiv:1511.08630 [cs.CL]"
      ]
    },
    {
      "cell_type": "code",
      "metadata": {
        "colab": {
          "base_uri": "https://localhost:8080/"
        },
        "id": "qplkM_oJWpw5",
        "outputId": "add518e3-d74c-4cf7-f8a5-35b3cae6a2dc"
      },
      "source": [
        "from google.colab import drive\n",
        "drive.mount('/content/drive')"
      ],
      "execution_count": null,
      "outputs": [
        {
          "output_type": "stream",
          "name": "stdout",
          "text": [
            "Mounted at /content/drive\n"
          ]
        }
      ]
    },
    {
      "cell_type": "code",
      "metadata": {
        "id": "rXEJWDinaHrm"
      },
      "source": [
        "import pandas as pd\n",
        "import numpy as np\n",
        "from nltk.stem import WordNetLemmatizer\n",
        "import keras\n",
        "from keras.models import Sequential\n",
        "import keras.layers\n",
        "from keras.layers import Dense, Embedding, LSTM, GRU, Input, Reshape, Concatenate, Permute, Activation, multiply, Lambda, Conv2D, Bidirectional, Flatten\n",
        "from keras.layers.embeddings import Embedding\n",
        "from keras.initializers import Constant\n",
        "from keras import Model\n",
        "import keras.utils.np_utils\n",
        "import tensorflow as tf\n",
        "from keras import Model\n",
        "import tensorflow.keras.backend as K"
      ],
      "execution_count": null,
      "outputs": []
    },
    {
      "cell_type": "code",
      "metadata": {
        "id": "1ETHuEaiZWuO"
      },
      "source": [
        "data = pd.read_csv(\"/content/drive/MyDrive/IISc_Assignment/DLNLP_A4/TrainData.csv\")"
      ],
      "execution_count": null,
      "outputs": []
    },
    {
      "cell_type": "code",
      "metadata": {
        "colab": {
          "base_uri": "https://localhost:8080/",
          "height": 203
        },
        "id": "wZ2Me1esaFo4",
        "outputId": "261ce848-a6f9-43f9-9091-15e9fd6a1ade"
      },
      "source": [
        "data.head()"
      ],
      "execution_count": null,
      "outputs": [
        {
          "output_type": "execute_result",
          "data": {
            "text/html": [
              "<div>\n",
              "<style scoped>\n",
              "    .dataframe tbody tr th:only-of-type {\n",
              "        vertical-align: middle;\n",
              "    }\n",
              "\n",
              "    .dataframe tbody tr th {\n",
              "        vertical-align: top;\n",
              "    }\n",
              "\n",
              "    .dataframe thead th {\n",
              "        text-align: right;\n",
              "    }\n",
              "</style>\n",
              "<table border=\"1\" class=\"dataframe\">\n",
              "  <thead>\n",
              "    <tr style=\"text-align: right;\">\n",
              "      <th></th>\n",
              "      <th>Text</th>\n",
              "      <th>Category</th>\n",
              "    </tr>\n",
              "  </thead>\n",
              "  <tbody>\n",
              "    <tr>\n",
              "      <th>0</th>\n",
              "      <td>worldcom ex-boss launches defence lawyers defe...</td>\n",
              "      <td>business</td>\n",
              "    </tr>\n",
              "    <tr>\n",
              "      <th>1</th>\n",
              "      <td>german business confidence slides german busin...</td>\n",
              "      <td>business</td>\n",
              "    </tr>\n",
              "    <tr>\n",
              "      <th>2</th>\n",
              "      <td>bbc poll indicates economic gloom citizens in ...</td>\n",
              "      <td>business</td>\n",
              "    </tr>\n",
              "    <tr>\n",
              "      <th>3</th>\n",
              "      <td>lifestyle  governs mobile choice  faster  bett...</td>\n",
              "      <td>tech</td>\n",
              "    </tr>\n",
              "    <tr>\n",
              "      <th>4</th>\n",
              "      <td>enron bosses in $168m payout eighteen former e...</td>\n",
              "      <td>business</td>\n",
              "    </tr>\n",
              "  </tbody>\n",
              "</table>\n",
              "</div>"
            ],
            "text/plain": [
              "                                                Text  Category\n",
              "0  worldcom ex-boss launches defence lawyers defe...  business\n",
              "1  german business confidence slides german busin...  business\n",
              "2  bbc poll indicates economic gloom citizens in ...  business\n",
              "3  lifestyle  governs mobile choice  faster  bett...      tech\n",
              "4  enron bosses in $168m payout eighteen former e...  business"
            ]
          },
          "metadata": {},
          "execution_count": 4
        }
      ]
    },
    {
      "cell_type": "code",
      "metadata": {
        "colab": {
          "base_uri": "https://localhost:8080/",
          "height": 120
        },
        "id": "hAO5i1DsaOVc",
        "outputId": "e1d8d90d-1a1e-4d93-ef1e-0a2d18af1c6a"
      },
      "source": [
        "data['Text'][0]"
      ],
      "execution_count": null,
      "outputs": [
        {
          "output_type": "execute_result",
          "data": {
            "application/vnd.google.colaboratory.intrinsic+json": {
              "type": "string"
            },
            "text/plain": [
              "'worldcom ex-boss launches defence lawyers defending former worldcom chief bernie ebbers against a battery of fraud charges have called a company whistleblower as their first witness.  cynthia cooper  worldcom s ex-head of internal accounting  alerted directors to irregular accounting practices at the us telecoms giant in 2002. her warnings led to the collapse of the firm following the discovery of an $11bn (£5.7bn) accounting fraud. mr ebbers has pleaded not guilty to charges of fraud and conspiracy.  prosecution lawyers have argued that mr ebbers orchestrated a series of accounting tricks at worldcom  ordering employees to hide expenses and inflate revenues to meet wall street earnings estimates. but ms cooper  who now runs her own consulting business  told a jury in new york on wednesday that external auditors arthur andersen had approved worldcom s accounting in early 2001 and 2002. she said andersen had given a  green light  to the procedures and practices used by worldcom. mr ebber s lawyers have said he was unaware of the fraud  arguing that auditors did not alert him to any problems.  ms cooper also said that during shareholder meetings mr ebbers often passed over technical questions to the company s finance chief  giving only  brief  answers himself. the prosecution s star witness  former worldcom financial chief scott sullivan  has said that mr ebbers ordered accounting adjustments at the firm  telling him to  hit our books . however  ms cooper said mr sullivan had not mentioned  anything uncomfortable  about worldcom s accounting during a 2001 audit committee meeting. mr ebbers could face a jail sentence of 85 years if convicted of all the charges he is facing. worldcom emerged from bankruptcy protection in 2004  and is now known as mci. last week  mci agreed to a buyout by verizon communications in a deal valued at $6.75bn.'"
            ]
          },
          "metadata": {},
          "execution_count": 5
        }
      ]
    },
    {
      "cell_type": "code",
      "metadata": {
        "colab": {
          "base_uri": "https://localhost:8080/"
        },
        "id": "z-pdlBjSanEc",
        "outputId": "872bdb18-9e1c-46e1-fdc6-695f5da3f656"
      },
      "source": [
        "len(data)"
      ],
      "execution_count": null,
      "outputs": [
        {
          "output_type": "execute_result",
          "data": {
            "text/plain": [
              "1490"
            ]
          },
          "metadata": {},
          "execution_count": 6
        }
      ]
    },
    {
      "cell_type": "code",
      "metadata": {
        "id": "xSFnhkGxdgfr"
      },
      "source": [
        ""
      ],
      "execution_count": null,
      "outputs": []
    },
    {
      "cell_type": "code",
      "metadata": {
        "id": "UmQA3yF3bafQ"
      },
      "source": [
        "category = list(data['Category'])"
      ],
      "execution_count": null,
      "outputs": []
    },
    {
      "cell_type": "code",
      "metadata": {
        "colab": {
          "base_uri": "https://localhost:8080/"
        },
        "id": "rzWqnOUocUR8",
        "outputId": "fce6fc50-729f-4a32-de67-a1c568d787cf"
      },
      "source": [
        "np.unique(category)"
      ],
      "execution_count": null,
      "outputs": [
        {
          "output_type": "execute_result",
          "data": {
            "text/plain": [
              "array(['business', 'entertainment', 'politics', 'sport', 'tech'],\n",
              "      dtype='<U13')"
            ]
          },
          "metadata": {},
          "execution_count": 8
        }
      ]
    },
    {
      "cell_type": "code",
      "metadata": {
        "id": "vS9fLeF1ebh5"
      },
      "source": [
        "d = {'business' : 0, 'entertainment' : 1, 'politics' : 2, 'sport' : 3, 'tech' : 4}"
      ],
      "execution_count": null,
      "outputs": []
    },
    {
      "cell_type": "code",
      "metadata": {
        "id": "e_rE4epletR8"
      },
      "source": [
        "labels = []\n",
        "\n",
        "for c in category:\n",
        "  labels.append(d[c])"
      ],
      "execution_count": 53,
      "outputs": []
    },
    {
      "cell_type": "code",
      "metadata": {
        "id": "D8F-wuzu97IJ"
      },
      "source": [
        "train_target = np.array(labels)"
      ],
      "execution_count": 54,
      "outputs": []
    },
    {
      "cell_type": "code",
      "metadata": {
        "colab": {
          "base_uri": "https://localhost:8080/"
        },
        "id": "kdF26FTIflQl",
        "outputId": "427a8874-0a09-46be-804d-f9f06062f4f0"
      },
      "source": [
        "# train_target = keras.utils.np_utils.to_categorical(labels)\n",
        "# train_target.shape"
      ],
      "execution_count": null,
      "outputs": [
        {
          "output_type": "execute_result",
          "data": {
            "text/plain": [
              "(1490, 5)"
            ]
          },
          "metadata": {},
          "execution_count": 11
        }
      ]
    },
    {
      "cell_type": "code",
      "metadata": {
        "id": "sXKHLPj4bN37"
      },
      "source": [
        "punctuations = '''!()-[]{};:'\"\\,<>./?@#%^&*_~0123456789'''\n",
        "\n",
        "pre_data = []\n",
        "for sentence in data['Text']:\n",
        "  for ele in sentence:\n",
        "    if (ele in punctuations):\n",
        "        sentence = sentence.replace(ele, \"\")\n",
        "  pre_data.append(sentence)"
      ],
      "execution_count": 55,
      "outputs": []
    },
    {
      "cell_type": "code",
      "metadata": {
        "colab": {
          "base_uri": "https://localhost:8080/"
        },
        "id": "_rEyBGnjc-R1",
        "outputId": "9ae3337b-dfe9-4269-972d-441c18d8a44f"
      },
      "source": [
        "import nltk\n",
        "nltk.download('wordnet')"
      ],
      "execution_count": null,
      "outputs": [
        {
          "output_type": "stream",
          "name": "stdout",
          "text": [
            "[nltk_data] Downloading package wordnet to /root/nltk_data...\n",
            "[nltk_data]   Unzipping corpora/wordnet.zip.\n"
          ]
        },
        {
          "output_type": "execute_result",
          "data": {
            "text/plain": [
              "True"
            ]
          },
          "metadata": {},
          "execution_count": 9
        }
      ]
    },
    {
      "cell_type": "code",
      "metadata": {
        "id": "79cwsyl0dDfV"
      },
      "source": [
        "lematize_data = []\n",
        "\n",
        "lemmatizer = WordNetLemmatizer()\n",
        "\n",
        "for s in pre_data:\n",
        "  l = []\n",
        "  for w in s.split():\n",
        "    w = lemmatizer.lemmatize(w)\n",
        "    l.append(w)\n",
        "  \n",
        "  # pre_data.append(l)\n",
        "  lematize_data.append(\" \".join([i for i in l]))"
      ],
      "execution_count": 56,
      "outputs": []
    },
    {
      "cell_type": "code",
      "metadata": {
        "colab": {
          "base_uri": "https://localhost:8080/",
          "height": 120
        },
        "id": "B5hraxazd0eJ",
        "outputId": "3bbb32bf-ac28-45a1-f7d8-a36546a1d856"
      },
      "source": [
        "lematize_data[0]"
      ],
      "execution_count": null,
      "outputs": [
        {
          "output_type": "execute_result",
          "data": {
            "application/vnd.google.colaboratory.intrinsic+json": {
              "type": "string"
            },
            "text/plain": [
              "'worldcom exboss launch defence lawyer defending former worldcom chief bernie ebbers against a battery of fraud charge have called a company whistleblower a their first witness cynthia cooper worldcom s exhead of internal accounting alerted director to irregular accounting practice at the u telecom giant in her warning led to the collapse of the firm following the discovery of an $bn £bn accounting fraud mr ebbers ha pleaded not guilty to charge of fraud and conspiracy prosecution lawyer have argued that mr ebbers orchestrated a series of accounting trick at worldcom ordering employee to hide expense and inflate revenue to meet wall street earnings estimate but m cooper who now run her own consulting business told a jury in new york on wednesday that external auditor arthur andersen had approved worldcom s accounting in early and she said andersen had given a green light to the procedure and practice used by worldcom mr ebber s lawyer have said he wa unaware of the fraud arguing that auditor did not alert him to any problem m cooper also said that during shareholder meeting mr ebbers often passed over technical question to the company s finance chief giving only brief answer himself the prosecution s star witness former worldcom financial chief scott sullivan ha said that mr ebbers ordered accounting adjustment at the firm telling him to hit our book however m cooper said mr sullivan had not mentioned anything uncomfortable about worldcom s accounting during a audit committee meeting mr ebbers could face a jail sentence of year if convicted of all the charge he is facing worldcom emerged from bankruptcy protection in and is now known a mci last week mci agreed to a buyout by verizon communication in a deal valued at $bn'"
            ]
          },
          "metadata": {},
          "execution_count": 15
        }
      ]
    },
    {
      "cell_type": "code",
      "metadata": {
        "colab": {
          "base_uri": "https://localhost:8080/"
        },
        "id": "KI6wE5Cynb3-",
        "outputId": "ca142087-8e7f-4372-bc2f-19682be37da9"
      },
      "source": [
        "import nltk\n",
        "nltk.download('stopwords')"
      ],
      "execution_count": null,
      "outputs": [
        {
          "output_type": "stream",
          "name": "stdout",
          "text": [
            "[nltk_data] Downloading package stopwords to /root/nltk_data...\n",
            "[nltk_data]   Unzipping corpora/stopwords.zip.\n"
          ]
        },
        {
          "output_type": "execute_result",
          "data": {
            "text/plain": [
              "True"
            ]
          },
          "metadata": {},
          "execution_count": 11
        }
      ]
    },
    {
      "cell_type": "code",
      "metadata": {
        "id": "bzpaiElUkB7S"
      },
      "source": [
        "from nltk.corpus import stopwords\n",
        "\n",
        "stop_words = set(stopwords.words('english'))\n",
        "\n",
        "final_data = []\n",
        "for sentence in lematize_data:\n",
        "    final_data.append(\" \".join([words for words in sentence.split() if not (words in stop_words or len(words) <=2)]))"
      ],
      "execution_count": 57,
      "outputs": []
    },
    {
      "cell_type": "code",
      "metadata": {
        "colab": {
          "base_uri": "https://localhost:8080/",
          "height": 120
        },
        "id": "AluxtngsoO0Z",
        "outputId": "0e838e8f-5dd4-4c41-8ae8-549d4ab13f7c"
      },
      "source": [
        "final_data[0]"
      ],
      "execution_count": null,
      "outputs": [
        {
          "output_type": "execute_result",
          "data": {
            "application/vnd.google.colaboratory.intrinsic+json": {
              "type": "string"
            },
            "text/plain": [
              "'worldcom exboss launch defence lawyer defending former worldcom chief bernie ebbers battery fraud charge called company whistleblower first witness cynthia cooper worldcom exhead internal accounting alerted director irregular accounting practice telecom giant warning led collapse firm following discovery $bn £bn accounting fraud ebbers pleaded guilty charge fraud conspiracy prosecution lawyer argued ebbers orchestrated series accounting trick worldcom ordering employee hide expense inflate revenue meet wall street earnings estimate cooper run consulting business told jury new york wednesday external auditor arthur andersen approved worldcom accounting early said andersen given green light procedure practice used worldcom ebber lawyer said unaware fraud arguing auditor alert problem cooper also said shareholder meeting ebbers often passed technical question company finance chief giving brief answer prosecution star witness former worldcom financial chief scott sullivan said ebbers ordered accounting adjustment firm telling hit book however cooper said sullivan mentioned anything uncomfortable worldcom accounting audit committee meeting ebbers could face jail sentence year convicted charge facing worldcom emerged bankruptcy protection known mci last week mci agreed buyout verizon communication deal valued $bn'"
            ]
          },
          "metadata": {},
          "execution_count": 18
        }
      ]
    },
    {
      "cell_type": "code",
      "metadata": {
        "id": "P7yKEGzwoQFF"
      },
      "source": [
        "max_len = max([len(s.split()) for s in final_data])"
      ],
      "execution_count": 58,
      "outputs": []
    },
    {
      "cell_type": "code",
      "metadata": {
        "colab": {
          "base_uri": "https://localhost:8080/"
        },
        "id": "1cAzUfsLp7DN",
        "outputId": "47f5e4d0-9b79-4c3d-c3f4-6f05b39d2cbb"
      },
      "source": [
        "max_len"
      ],
      "execution_count": null,
      "outputs": [
        {
          "output_type": "execute_result",
          "data": {
            "text/plain": [
              "1604"
            ]
          },
          "metadata": {},
          "execution_count": 20
        }
      ]
    },
    {
      "cell_type": "code",
      "metadata": {
        "id": "xmbcVXmHp810"
      },
      "source": [
        "len_list = [len(s.split()) for s in final_data]"
      ],
      "execution_count": null,
      "outputs": []
    },
    {
      "cell_type": "code",
      "metadata": {
        "colab": {
          "base_uri": "https://localhost:8080/"
        },
        "id": "DaKKrQkGqn7y",
        "outputId": "2cbf9717-a13c-42d5-9bf5-440a2d0a716a"
      },
      "source": [
        "max_len = 500\n",
        "\n",
        "from tensorflow.keras.preprocessing.text import Tokenizer\n",
        "from tensorflow.keras.preprocessing.sequence import pad_sequences\n",
        "\n",
        "tokenizer = Tokenizer()\n",
        "tokenizer.fit_on_texts(final_data)\n",
        "sequences = tokenizer.texts_to_sequences(final_data)\n",
        "\n",
        "#pad sequences\n",
        "train_word_index = tokenizer.word_index\n",
        "print(\"number of unique tokens = \", len(train_word_index))\n",
        "\n",
        "\n",
        "\n",
        "train_padded_sequences = pad_sequences(sequences, padding='post', maxlen = max_len)"
      ],
      "execution_count": 59,
      "outputs": [
        {
          "output_type": "stream",
          "name": "stdout",
          "text": [
            "number of unique tokens =  22479\n"
          ]
        }
      ]
    },
    {
      "cell_type": "code",
      "metadata": {
        "id": "-UXLFecJqZTu"
      },
      "source": [
        "train_padded_sequences[0]"
      ],
      "execution_count": null,
      "outputs": []
    },
    {
      "cell_type": "code",
      "metadata": {
        "colab": {
          "base_uri": "https://localhost:8080/"
        },
        "id": "2zOnymIJqanF",
        "outputId": "11a06b10-4fb5-4a56-bb2b-ce92212dc181"
      },
      "source": [
        "type(train_word_index)"
      ],
      "execution_count": null,
      "outputs": [
        {
          "output_type": "execute_result",
          "data": {
            "text/plain": [
              "dict"
            ]
          },
          "metadata": {},
          "execution_count": 24
        }
      ]
    },
    {
      "cell_type": "code",
      "metadata": {
        "id": "zhgd-j573QMU"
      },
      "source": [
        "from gensim.models import Word2Vec, KeyedVectors\n",
        "w2v_model = KeyedVectors.load_word2vec_format(\"/content/drive/MyDrive/IISc_Assignment/DLNLP_Assignment3/GoogleNews-vectors-negative300.bin\", binary=True)"
      ],
      "execution_count": null,
      "outputs": []
    },
    {
      "cell_type": "code",
      "metadata": {
        "colab": {
          "base_uri": "https://localhost:8080/"
        },
        "id": "Pc-ZpyCe3ghp",
        "outputId": "250c0a8c-16fd-4cd0-d213-90330d2ad340"
      },
      "source": [
        "unique_words = len(train_word_index) + 1\n",
        "w2v_embedding_dim = 300\n",
        "w2v_embedding = np.zeros((unique_words, w2v_embedding_dim))\n",
        "count = 0\n",
        "for word, i in train_word_index.items():\n",
        "  # if i > num_words:\n",
        "  #   continue\n",
        "  if word in w2v_model.vocab:\n",
        "    embedding = w2v_model.wv[word]\n",
        "  else:\n",
        "    embedding = np.random.uniform(-0.25, 0.25, w2v_embedding_dim)\n",
        "    count += 1\n",
        "  \n",
        "\n",
        "  if embedding is not None:\n",
        "    w2v_embedding[i] = embedding"
      ],
      "execution_count": null,
      "outputs": [
        {
          "output_type": "stream",
          "name": "stderr",
          "text": [
            "/usr/local/lib/python3.7/dist-packages/ipykernel_launcher.py:9: DeprecationWarning: Call to deprecated `wv` (Attribute will be removed in 4.0.0, use self instead).\n",
            "  if __name__ == '__main__':\n"
          ]
        }
      ]
    },
    {
      "cell_type": "markdown",
      "metadata": {
        "id": "jiAI2DQORqyI"
      },
      "source": [
        "# **CNN-LSTM Model**"
      ]
    },
    {
      "cell_type": "code",
      "metadata": {
        "id": "YaVhdAX8AjGP"
      },
      "source": [
        "classes = 5\n",
        "filters = 16\n",
        "k=5\n",
        "\n",
        "\n",
        "model_input = Input(shape = (max_len,))\n",
        "\n",
        "Embedding(unique_words, output_dim = w2v_embedding_dim, weights = [w2v_embedding], trainable = False)\n",
        "\n",
        "embedding = Embedding(unique_words, output_dim = w2v_embedding_dim, weights = [w2v_embedding], trainable = False)(model_input)\n",
        "\n",
        "embedding_resize = tf.expand_dims(embedding, -1)\n",
        "\n",
        "conv_out = Conv2D(filters, (k, w2v_embedding_dim), activation=\"relu\")(embedding_resize)\n",
        "\n",
        "conv_out = tf.squeeze(conv_out, [2])\n",
        "\n",
        "# conv_out = conv_out[: , :max_len-k+1, : ]\n",
        "\n",
        "lstm_out = Bidirectional(LSTM(units= w2v_embedding_dim, dropout=0.2))(conv_out)\n",
        "\n",
        "model_out = Dense(classes )(lstm_out)\n",
        "\n",
        "cnn_lstm_model = Model(model_input, model_out)"
      ],
      "execution_count": null,
      "outputs": []
    },
    {
      "cell_type": "code",
      "metadata": {
        "colab": {
          "base_uri": "https://localhost:8080/"
        },
        "id": "VR-e4_Oks5jV",
        "outputId": "900270ce-d60d-4442-8bfc-fe664f624eee"
      },
      "source": [
        "cnn_lstm_model.summary()"
      ],
      "execution_count": null,
      "outputs": [
        {
          "output_type": "stream",
          "name": "stdout",
          "text": [
            "Model: \"model_5\"\n",
            "_________________________________________________________________\n",
            "Layer (type)                 Output Shape              Param #   \n",
            "=================================================================\n",
            "input_13 (InputLayer)        [(None, 500)]             0         \n",
            "_________________________________________________________________\n",
            "embedding_13 (Embedding)     (None, 500, 300)          6744000   \n",
            "_________________________________________________________________\n",
            "tf.expand_dims_7 (TFOpLambda (None, 500, 300, 1)       0         \n",
            "_________________________________________________________________\n",
            "conv2d_7 (Conv2D)            (None, 496, 1, 16)        24016     \n",
            "_________________________________________________________________\n",
            "tf.compat.v1.squeeze_7 (TFOp (None, 496, 16)           0         \n",
            "_________________________________________________________________\n",
            "bidirectional_7 (Bidirection (None, 600)               760800    \n",
            "_________________________________________________________________\n",
            "dense_5 (Dense)              (None, 5)                 3005      \n",
            "=================================================================\n",
            "Total params: 7,531,821\n",
            "Trainable params: 787,821\n",
            "Non-trainable params: 6,744,000\n",
            "_________________________________________________________________\n"
          ]
        }
      ]
    },
    {
      "cell_type": "code",
      "metadata": {
        "id": "SRX534JviM_n"
      },
      "source": [
        "cnn_lstm_model.compile(loss=tf.keras.losses.SparseCategoricalCrossentropy(from_logits=True), optimizer='adam', metrics=['accuracy'])"
      ],
      "execution_count": null,
      "outputs": []
    },
    {
      "cell_type": "code",
      "metadata": {
        "colab": {
          "base_uri": "https://localhost:8080/"
        },
        "id": "XNUrSoY46rOF",
        "outputId": "003c47f3-0311-4e13-85f5-43e96afd4eca"
      },
      "source": [
        "cnn_lstm_model.fit(train_padded_sequences, train_target, batch_size=64, epochs=10, verbose=1, validation_split=0.2)"
      ],
      "execution_count": null,
      "outputs": [
        {
          "output_type": "stream",
          "name": "stdout",
          "text": [
            "Epoch 1/10\n",
            "19/19 [==============================] - 11s 376ms/step - loss: 1.4782 - accuracy: 0.3666 - val_loss: 1.0712 - val_accuracy: 0.6342\n",
            "Epoch 2/10\n",
            "19/19 [==============================] - 6s 325ms/step - loss: 0.9894 - accuracy: 0.5747 - val_loss: 0.7729 - val_accuracy: 0.6611\n",
            "Epoch 3/10\n",
            "19/19 [==============================] - 6s 325ms/step - loss: 0.6446 - accuracy: 0.7584 - val_loss: 0.5262 - val_accuracy: 0.8356\n",
            "Epoch 4/10\n",
            "19/19 [==============================] - 6s 327ms/step - loss: 0.5041 - accuracy: 0.8515 - val_loss: 0.9278 - val_accuracy: 0.6107\n",
            "Epoch 5/10\n",
            "19/19 [==============================] - 6s 326ms/step - loss: 0.5219 - accuracy: 0.8146 - val_loss: 0.4736 - val_accuracy: 0.8624\n",
            "Epoch 6/10\n",
            "19/19 [==============================] - 6s 327ms/step - loss: 1.0788 - accuracy: 0.6191 - val_loss: 0.8941 - val_accuracy: 0.6611\n",
            "Epoch 7/10\n",
            "19/19 [==============================] - 6s 325ms/step - loss: 0.6821 - accuracy: 0.7743 - val_loss: 0.4796 - val_accuracy: 0.8322\n",
            "Epoch 8/10\n",
            "19/19 [==============================] - 6s 326ms/step - loss: 0.3954 - accuracy: 0.8935 - val_loss: 0.3573 - val_accuracy: 0.9128\n",
            "Epoch 9/10\n",
            "19/19 [==============================] - 6s 326ms/step - loss: 0.3129 - accuracy: 0.9119 - val_loss: 0.2656 - val_accuracy: 0.9228\n",
            "Epoch 10/10\n",
            "19/19 [==============================] - 6s 326ms/step - loss: 0.3030 - accuracy: 0.9144 - val_loss: 0.1905 - val_accuracy: 0.9564\n"
          ]
        },
        {
          "output_type": "execute_result",
          "data": {
            "text/plain": [
              "<keras.callbacks.History at 0x7f118cfd8790>"
            ]
          },
          "metadata": {},
          "execution_count": 21
        }
      ]
    },
    {
      "cell_type": "code",
      "metadata": {
        "id": "e-lmz9EE63Ms"
      },
      "source": [
        ""
      ],
      "execution_count": null,
      "outputs": []
    },
    {
      "cell_type": "markdown",
      "metadata": {
        "id": "r6x4hgUZRi3T"
      },
      "source": [
        "# **CNN-LSTM Model with attention**"
      ]
    },
    {
      "cell_type": "code",
      "metadata": {
        "id": "OBhbYEkMRosd"
      },
      "source": [
        "from keras.layers.core import RepeatVector\n",
        "classes = 5\n",
        "filters = 16\n",
        "k=5\n",
        "\n",
        "\n",
        "model_input = Input(shape = (max_len,))\n",
        "\n",
        "Embedding(unique_words, output_dim = w2v_embedding_dim, weights = [w2v_embedding], trainable = False)\n",
        "\n",
        "embedding = Embedding(unique_words, output_dim = w2v_embedding_dim, weights = [w2v_embedding], trainable = False)(model_input)\n",
        "\n",
        "embedding_resize = tf.expand_dims(embedding, -1)\n",
        "\n",
        "conv_out = Conv2D(filters, (k, w2v_embedding_dim), activation=\"relu\")(embedding_resize)\n",
        "\n",
        "conv_out = tf.squeeze(conv_out, [2])\n",
        "\n",
        "# conv_out = conv_out[: , :max_len-k+1, : ]\n",
        "\n",
        "lstm_out = Bidirectional(LSTM(units= w2v_embedding_dim, dropout=0.2, return_sequences = True))(conv_out)\n",
        "\n",
        "attention = Dense(1)(lstm_out)\n",
        "\n",
        "attention = Flatten()(attention)\n",
        "\n",
        "attention = RepeatVector(w2v_embedding_dim * 2)(attention)\n",
        "\n",
        "attention = Permute([2,1])(attention)\n",
        "\n",
        "attention_embedding = keras.layers.Multiply()([lstm_out, attention])\n",
        "\n",
        "attention_embedding = keras.layers.Lambda(lambda xin: K.sum(xin, axis = -2), output_shape = (w2v_embedding_dim * 2,) )(attention_embedding)\n",
        "\n",
        "model_out = Dense(classes )(attention_embedding)\n",
        "\n",
        "cnn_lstm_attention_model = Model(model_input, model_out)"
      ],
      "execution_count": null,
      "outputs": []
    },
    {
      "cell_type": "code",
      "metadata": {
        "colab": {
          "base_uri": "https://localhost:8080/"
        },
        "id": "CDrSS_hFiefV",
        "outputId": "55871170-4221-4ac7-a457-6884bd2aacf1"
      },
      "source": [
        "cnn_lstm_attention_model.summary()"
      ],
      "execution_count": null,
      "outputs": [
        {
          "output_type": "stream",
          "name": "stdout",
          "text": [
            "Model: \"model_1\"\n",
            "__________________________________________________________________________________________________\n",
            "Layer (type)                    Output Shape         Param #     Connected to                     \n",
            "==================================================================================================\n",
            "input_5 (InputLayer)            [(None, 500)]        0                                            \n",
            "__________________________________________________________________________________________________\n",
            "embedding_9 (Embedding)         (None, 500, 300)     6744000     input_5[0][0]                    \n",
            "__________________________________________________________________________________________________\n",
            "tf.expand_dims_4 (TFOpLambda)   (None, 500, 300, 1)  0           embedding_9[0][0]                \n",
            "__________________________________________________________________________________________________\n",
            "conv2d_4 (Conv2D)               (None, 496, 1, 16)   24016       tf.expand_dims_4[0][0]           \n",
            "__________________________________________________________________________________________________\n",
            "tf.compat.v1.squeeze_4 (TFOpLam (None, 496, 16)      0           conv2d_4[0][0]                   \n",
            "__________________________________________________________________________________________________\n",
            "bidirectional_4 (Bidirectional) (None, 496, 600)     760800      tf.compat.v1.squeeze_4[0][0]     \n",
            "__________________________________________________________________________________________________\n",
            "dense_4 (Dense)                 (None, 496, 1)       601         bidirectional_4[0][0]            \n",
            "__________________________________________________________________________________________________\n",
            "flatten_3 (Flatten)             (None, 496)          0           dense_4[0][0]                    \n",
            "__________________________________________________________________________________________________\n",
            "repeat_vector_3 (RepeatVector)  (None, 600, 496)     0           flatten_3[0][0]                  \n",
            "__________________________________________________________________________________________________\n",
            "permute_3 (Permute)             (None, 496, 600)     0           repeat_vector_3[0][0]            \n",
            "__________________________________________________________________________________________________\n",
            "multiply_3 (Multiply)           (None, 496, 600)     0           bidirectional_4[0][0]            \n",
            "                                                                 permute_3[0][0]                  \n",
            "__________________________________________________________________________________________________\n",
            "lambda_2 (Lambda)               (None, 600)          0           multiply_3[0][0]                 \n",
            "__________________________________________________________________________________________________\n",
            "dense_5 (Dense)                 (None, 5)            3005        lambda_2[0][0]                   \n",
            "==================================================================================================\n",
            "Total params: 7,532,422\n",
            "Trainable params: 788,422\n",
            "Non-trainable params: 6,744,000\n",
            "__________________________________________________________________________________________________\n"
          ]
        }
      ]
    },
    {
      "cell_type": "code",
      "metadata": {
        "id": "-g5NSE5pgyL3"
      },
      "source": [
        "cnn_lstm_attention_model.compile(loss=tf.keras.losses.SparseCategoricalCrossentropy(from_logits=True), optimizer='adam', metrics=['accuracy'])"
      ],
      "execution_count": null,
      "outputs": []
    },
    {
      "cell_type": "code",
      "metadata": {
        "colab": {
          "base_uri": "https://localhost:8080/"
        },
        "id": "lzk53rdVg1aD",
        "outputId": "8a5aed75-064d-4a7d-c1f3-958615b8745f"
      },
      "source": [
        "cnn_lstm_attention_model.fit(train_padded_sequences, train_target, batch_size=64, epochs=20, verbose=1, validation_split=0.2)"
      ],
      "execution_count": null,
      "outputs": [
        {
          "output_type": "stream",
          "name": "stdout",
          "text": [
            "Epoch 1/20\n",
            "19/19 [==============================] - 44s 412ms/step - loss: 1.1475 - accuracy: 0.4706 - val_loss: 0.6221 - val_accuracy: 0.8591\n",
            "Epoch 2/20\n",
            "19/19 [==============================] - 6s 341ms/step - loss: 0.3146 - accuracy: 0.9094 - val_loss: 0.2849 - val_accuracy: 0.9228\n",
            "Epoch 3/20\n",
            "19/19 [==============================] - 6s 343ms/step - loss: 0.1895 - accuracy: 0.9438 - val_loss: 0.1546 - val_accuracy: 0.9631\n",
            "Epoch 4/20\n",
            "19/19 [==============================] - 6s 343ms/step - loss: 0.1186 - accuracy: 0.9622 - val_loss: 0.1670 - val_accuracy: 0.9497\n",
            "Epoch 5/20\n",
            "19/19 [==============================] - 6s 341ms/step - loss: 0.1046 - accuracy: 0.9715 - val_loss: 0.1315 - val_accuracy: 0.9530\n",
            "Epoch 6/20\n",
            "19/19 [==============================] - 6s 341ms/step - loss: 0.0715 - accuracy: 0.9799 - val_loss: 0.1760 - val_accuracy: 0.9497\n",
            "Epoch 7/20\n",
            "19/19 [==============================] - 6s 341ms/step - loss: 0.0775 - accuracy: 0.9782 - val_loss: 0.1388 - val_accuracy: 0.9597\n",
            "Epoch 8/20\n",
            "19/19 [==============================] - 6s 342ms/step - loss: 0.0805 - accuracy: 0.9757 - val_loss: 0.1537 - val_accuracy: 0.9463\n",
            "Epoch 9/20\n",
            "19/19 [==============================] - 6s 343ms/step - loss: 0.0375 - accuracy: 0.9874 - val_loss: 0.1513 - val_accuracy: 0.9597\n",
            "Epoch 10/20\n",
            "19/19 [==============================] - 6s 342ms/step - loss: 0.0281 - accuracy: 0.9908 - val_loss: 0.1673 - val_accuracy: 0.9664\n",
            "Epoch 11/20\n",
            "19/19 [==============================] - 6s 342ms/step - loss: 0.0247 - accuracy: 0.9916 - val_loss: 0.2650 - val_accuracy: 0.9430\n",
            "Epoch 12/20\n",
            "19/19 [==============================] - 6s 342ms/step - loss: 0.0720 - accuracy: 0.9815 - val_loss: 0.1547 - val_accuracy: 0.9497\n",
            "Epoch 13/20\n",
            "19/19 [==============================] - 6s 342ms/step - loss: 0.0533 - accuracy: 0.9841 - val_loss: 0.1443 - val_accuracy: 0.9597\n",
            "Epoch 14/20\n",
            "19/19 [==============================] - 6s 341ms/step - loss: 0.0192 - accuracy: 0.9941 - val_loss: 0.1474 - val_accuracy: 0.9631\n",
            "Epoch 15/20\n",
            "19/19 [==============================] - 6s 342ms/step - loss: 0.0063 - accuracy: 0.9983 - val_loss: 0.2062 - val_accuracy: 0.9564\n",
            "Epoch 16/20\n",
            "19/19 [==============================] - 6s 341ms/step - loss: 0.0080 - accuracy: 0.9983 - val_loss: 0.2255 - val_accuracy: 0.9530\n",
            "Epoch 17/20\n",
            "19/19 [==============================] - 6s 341ms/step - loss: 0.0033 - accuracy: 0.9983 - val_loss: 0.1656 - val_accuracy: 0.9664\n",
            "Epoch 18/20\n",
            "19/19 [==============================] - 6s 343ms/step - loss: 6.7954e-04 - accuracy: 1.0000 - val_loss: 0.1856 - val_accuracy: 0.9664\n",
            "Epoch 19/20\n",
            "19/19 [==============================] - 6s 341ms/step - loss: 8.6792e-04 - accuracy: 1.0000 - val_loss: 0.2019 - val_accuracy: 0.9664\n",
            "Epoch 20/20\n",
            "19/19 [==============================] - 6s 341ms/step - loss: 4.5131e-04 - accuracy: 1.0000 - val_loss: 0.2041 - val_accuracy: 0.9664\n"
          ]
        },
        {
          "output_type": "execute_result",
          "data": {
            "text/plain": [
              "<keras.callbacks.History at 0x7f087004f710>"
            ]
          },
          "metadata": {},
          "execution_count": 19
        }
      ]
    },
    {
      "cell_type": "markdown",
      "metadata": {
        "id": "kZnJoh9z-82n"
      },
      "source": [
        "# **Loading test data**"
      ]
    },
    {
      "cell_type": "code",
      "metadata": {
        "id": "GEOfb1-p-8CS"
      },
      "source": [
        "test = pd.read_csv(\"/content/TestData_Inputs.csv\")"
      ],
      "execution_count": 60,
      "outputs": []
    },
    {
      "cell_type": "code",
      "metadata": {
        "id": "1FMbWLvIADwS",
        "colab": {
          "base_uri": "https://localhost:8080/",
          "height": 203
        },
        "outputId": "7744bc65-6451-442c-8479-2f022f2e1f14"
      },
      "source": [
        "test.head()"
      ],
      "execution_count": 61,
      "outputs": [
        {
          "output_type": "execute_result",
          "data": {
            "text/html": [
              "<div>\n",
              "<style scoped>\n",
              "    .dataframe tbody tr th:only-of-type {\n",
              "        vertical-align: middle;\n",
              "    }\n",
              "\n",
              "    .dataframe tbody tr th {\n",
              "        vertical-align: top;\n",
              "    }\n",
              "\n",
              "    .dataframe thead th {\n",
              "        text-align: right;\n",
              "    }\n",
              "</style>\n",
              "<table border=\"1\" class=\"dataframe\">\n",
              "  <thead>\n",
              "    <tr style=\"text-align: right;\">\n",
              "      <th></th>\n",
              "      <th>ArticleId</th>\n",
              "      <th>Text</th>\n",
              "    </tr>\n",
              "  </thead>\n",
              "  <tbody>\n",
              "    <tr>\n",
              "      <th>0</th>\n",
              "      <td>1018</td>\n",
              "      <td>qpr keeper day heads for preston queens park r...</td>\n",
              "    </tr>\n",
              "    <tr>\n",
              "      <th>1</th>\n",
              "      <td>1319</td>\n",
              "      <td>software watching while you work software that...</td>\n",
              "    </tr>\n",
              "    <tr>\n",
              "      <th>2</th>\n",
              "      <td>1138</td>\n",
              "      <td>d arcy injury adds to ireland woe gordon d arc...</td>\n",
              "    </tr>\n",
              "    <tr>\n",
              "      <th>3</th>\n",
              "      <td>459</td>\n",
              "      <td>india s reliance family feud heats up the ongo...</td>\n",
              "    </tr>\n",
              "    <tr>\n",
              "      <th>4</th>\n",
              "      <td>1020</td>\n",
              "      <td>boro suffer morrison injury blow middlesbrough...</td>\n",
              "    </tr>\n",
              "  </tbody>\n",
              "</table>\n",
              "</div>"
            ],
            "text/plain": [
              "   ArticleId                                               Text\n",
              "0       1018  qpr keeper day heads for preston queens park r...\n",
              "1       1319  software watching while you work software that...\n",
              "2       1138  d arcy injury adds to ireland woe gordon d arc...\n",
              "3        459  india s reliance family feud heats up the ongo...\n",
              "4       1020  boro suffer morrison injury blow middlesbrough..."
            ]
          },
          "metadata": {},
          "execution_count": 61
        }
      ]
    },
    {
      "cell_type": "code",
      "metadata": {
        "id": "lvTSMKiaAWKN"
      },
      "source": [
        "punctuations = '''!()-[]{};:'\"\\,<>./?@#%^&*_~0123456789'''\n",
        "\n",
        "pre_data = []\n",
        "for sentence in test['Text']:\n",
        "  for ele in sentence:\n",
        "    if (ele in punctuations):\n",
        "        sentence = sentence.replace(ele, \"\")\n",
        "  pre_data.append(sentence)"
      ],
      "execution_count": 62,
      "outputs": []
    },
    {
      "cell_type": "code",
      "metadata": {
        "id": "ETQzs2wOAfSP"
      },
      "source": [
        "lematize_data = []\n",
        "\n",
        "lemmatizer = WordNetLemmatizer()\n",
        "\n",
        "for s in pre_data:\n",
        "  l = []\n",
        "  for w in s.split():\n",
        "    w = lemmatizer.lemmatize(w)\n",
        "    l.append(w)\n",
        "  \n",
        "  # pre_data.append(l)\n",
        "  lematize_data.append(\" \".join([i for i in l]))"
      ],
      "execution_count": 63,
      "outputs": []
    },
    {
      "cell_type": "code",
      "metadata": {
        "id": "CXlk3ouxAiNn"
      },
      "source": [
        "final_data = []\n",
        "for sentence in lematize_data:\n",
        "    final_data.append(\" \".join([words for words in sentence.split() if not (words in stop_words or len(words) <=2)]))"
      ],
      "execution_count": 64,
      "outputs": []
    },
    {
      "cell_type": "code",
      "metadata": {
        "id": "LW5OvqTKAsBb"
      },
      "source": [
        "sequences = tokenizer.texts_to_sequences(final_data)\n",
        "test_padded_sequences = pad_sequences(sequences, padding='post', maxlen = max_len)"
      ],
      "execution_count": 65,
      "outputs": []
    },
    {
      "cell_type": "code",
      "metadata": {
        "id": "7x6fc_-NBGNa"
      },
      "source": [
        "test_label = pd.read_excel(\"Assignment4_TestLabels.xlsx\")"
      ],
      "execution_count": 66,
      "outputs": []
    },
    {
      "cell_type": "code",
      "metadata": {
        "id": "UiDnVXUXB2Jg"
      },
      "source": [
        "labels = test_label['Label - (business, tech, politics, sport, entertainment)']\n",
        "\n",
        "test_labels = []\n",
        "\n",
        "for c in labels:\n",
        "  test_labels.append(d[c])\n",
        "\n",
        "test_labels = np.array(test_labels)"
      ],
      "execution_count": 67,
      "outputs": []
    },
    {
      "cell_type": "code",
      "metadata": {
        "id": "lmDmvh0RBBAU"
      },
      "source": [
        "prediction = cnn_lstm_attention_model.predict(test_padded_sequences)\n",
        "prediction = np.argmax(prediction, axis = 1)"
      ],
      "execution_count": 68,
      "outputs": []
    },
    {
      "cell_type": "code",
      "metadata": {
        "colab": {
          "base_uri": "https://localhost:8080/"
        },
        "id": "WYiGbikoC8m1",
        "outputId": "27d59669-1e4d-4557-84ca-86c7ca371a15"
      },
      "source": [
        "from sklearn.metrics import f1_score\n",
        "f1_score(test_labels,prediction,average='micro')"
      ],
      "execution_count": 69,
      "outputs": [
        {
          "output_type": "execute_result",
          "data": {
            "text/plain": [
              "0.9673469387755103"
            ]
          },
          "metadata": {},
          "execution_count": 69
        }
      ]
    },
    {
      "cell_type": "code",
      "metadata": {
        "colab": {
          "base_uri": "https://localhost:8080/"
        },
        "id": "g2MrYYLhDTsq",
        "outputId": "35e60fa4-117c-4d30-ef6b-42925c5d26e0"
      },
      "source": [
        "cnn_lstm_attention_model.evaluate(test_padded_sequences, test_labels)"
      ],
      "execution_count": 70,
      "outputs": [
        {
          "output_type": "stream",
          "name": "stdout",
          "text": [
            "23/23 [==============================] - 2s 102ms/step - loss: 0.2583 - accuracy: 0.9673\n"
          ]
        },
        {
          "output_type": "execute_result",
          "data": {
            "text/plain": [
              "[0.25831368565559387, 0.9673469662666321]"
            ]
          },
          "metadata": {},
          "execution_count": 70
        }
      ]
    }
  ]
}